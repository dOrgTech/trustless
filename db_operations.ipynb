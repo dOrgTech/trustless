{
 "cells": [
  {
   "cell_type": "code",
   "execution_count": null,
   "metadata": {},
   "outputs": [],
   "source": [
    "#use the kernel called \"COMPUTER 3.11.5\"\n",
    "!pip install google-cloud-firestore"
   ]
  },
  {
   "cell_type": "code",
   "execution_count": 1,
   "metadata": {},
   "outputs": [
    {
     "data": {
      "text/plain": [
       "[, ]"
      ]
     },
     "execution_count": 1,
     "metadata": {},
     "output_type": "execute_result"
    }
   ],
   "source": [
    "from google.cloud import firestore\n",
    "db = firestore.Client()\n",
    "import json\n",
    "\n",
    "# Load the JSON key file\n",
    "with open('firestore.json') as f:\n",
    "    keyfile_dict = json.load(f)\n",
    "\n",
    "# Create the Firestore client\n",
    "db = firestore.Client.from_service_account_info(keyfile_dict)\n",
    "projects_ref = db.collection('projectsSepolia')\n",
    "users_ref = db.collection('usersSepolia')\n",
    "transactions_ref = db.collection('transactionsSepolia')\n",
    "\n",
    "# Get all documents in the collection\n",
    "docs = projects_ref.stream()\n",
    "batch = db.batch()\n",
    "for doc in docs:\n",
    "    batch.delete(doc.reference)\n",
    "# Commit the batch\n",
    "batch.commit()\n",
    "\n",
    "docs = users_ref.stream()\n",
    "batch = db.batch()\n",
    "for doc in docs:\n",
    "    batch.delete(doc.reference)\n",
    "# Commit the batch\n",
    "batch.commit()\n",
    "\n",
    "docs = transactions_ref.stream()\n",
    "batch = db.batch()\n",
    "for doc in docs:\n",
    "    batch.delete(doc.reference)\n",
    "# Commit the batch\n",
    "batch.commit()"
   ]
  }
 ],
 "metadata": {
  "kernelspec": {
   "display_name": "base",
   "language": "python",
   "name": "python3"
  },
  "language_info": {
   "codemirror_mode": {
    "name": "ipython",
    "version": 3
   },
   "file_extension": ".py",
   "mimetype": "text/x-python",
   "name": "python",
   "nbconvert_exporter": "python",
   "pygments_lexer": "ipython3",
   "version": "3.11.5"
  }
 },
 "nbformat": 4,
 "nbformat_minor": 2
}
